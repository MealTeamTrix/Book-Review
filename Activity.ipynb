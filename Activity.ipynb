{
 "cells": [
  {
   "cell_type": "code",
   "execution_count": null,
   "id": "224263d4-8e67-474d-9359-eca9c1ce5516",
   "metadata": {},
   "outputs": [],
   "source": [
    "# Import libraries\n",
    "import pandas as pd\n",
    "import seaborn as sns\n",
    "import matplotlib.pyplot as plt\n",
    "import numpy as np\n",
    "from sklearn.feature_extraction.text import CountVectorizer\n",
    "from sklearn.ensemble import RandomForestClassifier\n",
    "from sklearn.model_selection import train_test_split"
   ]
  },
  {
   "cell_type": "code",
   "execution_count": null,
   "id": "fd574279-227c-40cb-8acf-14c9ceaa32ec",
   "metadata": {},
   "outputs": [],
   "source": [
    "# Load data\n",
    "books = pd.read_csv('data/book.csv')"
   ]
  },
  {
   "cell_type": "code",
   "execution_count": null,
   "id": "330ccc88-57ea-4f0c-9f1c-84a791cfe0c5",
   "metadata": {},
   "outputs": [],
   "source": [
    "# Basic EDA\n",
    "print(books.info())\n",
    "sns.countplot(data=books, x=\"popularity\")\n",
    "plt.title(\"Popularity Distribution\")\n",
    "plt.show()"
   ]
  },
  {
   "cell_type": "code",
   "execution_count": null,
   "id": "83cc69d2-e9e4-45b1-9b03-d68203087943",
   "metadata": {},
   "outputs": [],
   "source": [
    "# Filter out rare categories\n",
    "books = books.groupby(\"categories\").filter(lambda x: len(x) > 100)"
   ]
  },
  {
   "cell_type": "code",
   "execution_count": null,
   "id": "9cf0abdd-548e-482d-babe-044b083ba457",
   "metadata": {},
   "outputs": [],
   "source": [
    "# One-hot encode categories\n",
    "categories = pd.get_dummies(books[\"categories\"], drop_first=True)\n",
    "books = pd.concat([books.drop(columns=[\"categories\"]), categories], axis=1)\n",
    "\n",
    "# Extract review counts and helpfulness\n",
    "books[[\"num_helpful\", \"num_reviews\"]] = books[\"review/helpfulness\"].str.split(\"/\", expand=True).astype(int)\n",
    "books[\"perc_helpful_reviews\"] = books[\"num_helpful\"] / books[\"num_reviews\"]\n",
    "books[\"perc_helpful_reviews\"].fillna(0, inplace=True)\n",
    "books.drop(columns=[\"review/helpfulness\"], inplace=True)\n"
   ]
  },
  {
   "cell_type": "code",
   "execution_count": null,
   "id": "93c2f56d-9466-45ff-9014-2eccee37b912",
   "metadata": {},
   "outputs": [],
   "source": [
    "# Normalize text columns\n",
    "for col in [\"review/summary\", \"review/text\", \"description\"]:\n",
    "    books[col] = books[col].str.lower()\n",
    "\n",
    "# Positive sentiment words\n",
    "positive_words = [\n",
    "    \"great\", \"excellent\", \"good\", \"interesting\", \"enjoy\", \"helpful\", \"useful\", \"like\", \"love\",\n",
    "    \"beautiful\", \"fantastic\", \"perfect\", \"wonderful\", \"impressive\", \"amazing\", \"outstanding\",\n",
    "    \"remarkable\", \"brilliant\", \"exceptional\", \"positive\", \"thrilling\"\n",
    "]\n",
    "\n",
    "vectorizer = CountVectorizer(vocabulary=positive_words)"
   ]
  },
  {
   "cell_type": "code",
   "execution_count": null,
   "id": "bcbd8efa-7c59-4c39-bbf6-7a3ed953ae45",
   "metadata": {},
   "outputs": [],
   "source": [
    "# Transform and calculate sentiment features\n",
    "for feature in [\"review/text\", \"review/summary\", \"description\"]:\n",
    "    transformed = vectorizer.fit_transform(books[feature].fillna(\"\"))\n",
    "    books[f\"positive_words_{feature.split('/')[-1]}\"] = transformed.sum(axis=1).A1"
   ]
  },
  {
   "cell_type": "code",
   "execution_count": null,
   "id": "359a5b6c-aa53-476e-9513-c9271dd538a7",
   "metadata": {},
   "outputs": [],
   "source": [
    "# Drop original text columns\n",
    "books.drop(columns=[\"review/text\", \"review/summary\", \"description\"], inplace=True)\n",
    "\n",
    "# Define features and target\n",
    "X = books.drop(columns=[\"title\", \"authors\", \"popularity\"]).values\n",
    "y = books[\"popularity\"].values\n",
    "\n",
    "# Train/test split\n",
    "X_train, X_test, y_train, y_test = train_test_split(X, y, test_size=0.3, random_state=42)"
   ]
  },
  {
   "cell_type": "code",
   "execution_count": null,
   "id": "9a2473ab-62cf-4e42-82d8-d3037c9a90fb",
   "metadata": {},
   "outputs": [],
   "source": [
    "# Train model\n",
    "clf = RandomForestClassifier(\n",
    "    n_estimators=120,\n",
    "    max_depth=50,\n",
    "    min_samples_split=5,\n",
    "    random_state=42,\n",
    "    class_weight=\"balanced\"\n",
    ")\n",
    "clf.fit(X_train, y_train)"
   ]
  },
  {
   "cell_type": "code",
   "execution_count": null,
   "id": "fb089634-ac71-4bd5-abae-797b1643b4ff",
   "metadata": {},
   "outputs": [],
   "source": [
    "# Evaluate model\n",
    "print(\"Train Accuracy:\", clf.score(X_train, y_train))\n",
    "print(\"Test Accuracy:\", clf.score(X_test, y_test))"
   ]
  }
 ],
 "metadata": {
  "kernelspec": {
   "display_name": "Python 3 (ipykernel)",
   "language": "python",
   "name": "python3"
  },
  "language_info": {
   "name": ""
  }
 },
 "nbformat": 4,
 "nbformat_minor": 5
}
